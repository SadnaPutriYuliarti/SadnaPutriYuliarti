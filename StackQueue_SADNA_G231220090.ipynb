{
  "nbformat": 4,
  "nbformat_minor": 0,
  "metadata": {
    "colab": {
      "provenance": [],
      "authorship_tag": "ABX9TyPBexiTxhTFWDIqKJKSHZVr",
      "include_colab_link": true
    },
    "kernelspec": {
      "name": "python3",
      "display_name": "Python 3"
    },
    "language_info": {
      "name": "python"
    }
  },
  "cells": [
    {
      "cell_type": "markdown",
      "metadata": {
        "id": "view-in-github",
        "colab_type": "text"
      },
      "source": [
        "<a href=\"https://colab.research.google.com/github/SadnaPutriYuliarti/SadnaPutriYuliarti/blob/main/StackQueue_SADNA_G231220090.ipynb\" target=\"_parent\"><img src=\"https://colab.research.google.com/assets/colab-badge.svg\" alt=\"Open In Colab\"/></a>"
      ]
    },
    {
      "cell_type": "markdown",
      "source": [
        "ANTRIAN\n",
        "\n"
      ],
      "metadata": {
        "id": "_Wi1-vDMfAWs"
      }
    },
    {
      "cell_type": "code",
      "execution_count": null,
      "metadata": {
        "id": "Kf-Faqwge_h1"
      },
      "outputs": [],
      "source": [
        "from collections import deque\n",
        "queue = deque ([\"Ram\", \"Tarun\", \"Asif\", \"John\"])\n",
        "print (queue)\n",
        "queue.append(\"Akbar\")\n",
        "print (queue)\n",
        "queue.append(\"Birbal\")\n",
        "print (queue)\n",
        "print (queue.popleft())\n",
        "print (queue.popleft())\n",
        "print (queue)"
      ]
    },
    {
      "cell_type": "markdown",
      "source": [
        "TOWER HANOI"
      ],
      "metadata": {
        "id": "G1WwxC_4fFsS"
      }
    },
    {
      "cell_type": "code",
      "source": [
        "def TowerOfHanoi (n, dr, menuju, bantuan):\n",
        "    if n == 0:\n",
        "        return\n",
        "    TowerOfHanoi (n-1, dari, bantuan, menuju)\n",
        "    print(\"Pindah disk\", n, \"dari\", dr, \"ke\", menuju)\n",
        "    TowerOfHanoi (n-1, bantuan, dr, menuju)\n",
        "\n",
        "# Driver code\n",
        "N = 3\n",
        "\n",
        "# A, C, B are the name of rods TowerOfHanoi(N, 'A', 'C', 'B')"
      ],
      "metadata": {
        "id": "2YMgvKiGfr4y"
      },
      "execution_count": 1,
      "outputs": []
    },
    {
      "cell_type": "markdown",
      "source": [
        "MENGURUTKAN DALAM SEBUAH STRACK"
      ],
      "metadata": {
        "id": "19p6FtzrfyBF"
      }
    },
    {
      "cell_type": "code",
      "source": [
        "def sortStack (input):\n",
        "    tmpStack = []\n",
        "    while (len (input) > 0):\n",
        "\n",
        "        #pop out the first element\n",
        "        tmp = input [-1]\n",
        "        input.pop()\n",
        "\n",
        "        # while temporary stack is not empty\n",
        "        # and top of stack is smaller than temp\n",
        "        while (len(tmpStack) > 0 and tmpStack[-1] < tmp):\n",
        "\n",
        "            # pop from temporary stack and\n",
        "            # append it to the input stack\n",
        "            input.append(tmpStack[-1])\n",
        "            tmpStack.pop()\n",
        "\n",
        "        # append temp in temporary of stack\n",
        "        tmpStack.append(tmp)\n",
        "\n",
        "    return tmpStack"
      ],
      "metadata": {
        "id": "UhSaSqt0f0eN"
      },
      "execution_count": 2,
      "outputs": []
    },
    {
      "cell_type": "code",
      "source": [
        "def sortArrayUsingStacks (arr, n):\n",
        "\n",
        "    # append array elements to stack\n",
        "    input = []\n",
        "    i = 0\n",
        "    while (i < n ) :\n",
        "        input.append(arr[i])\n",
        "        i = i + 1\n",
        "\n",
        "    # Sort the temporary stack\n",
        "    tmpStack = sortStack(input)\n",
        "    i = 0\n",
        "\n",
        "    # Put stack elements in arrp[]\n",
        "    while (i < n):\n",
        "        arr[i] = tmpStack [-1]\n",
        "        tmpStack.pop()\n",
        "        i = i + 1\n",
        "\n",
        "    return arr\n",
        "\n",
        "# Driver code\n",
        "arr = [3, 5, 2, 4, 1]\n",
        "n = len(arr)\n",
        "\n",
        "arr = sortArrayUsingStacks (arr, n)\n",
        "i = 0\n",
        "\n",
        "while (i < n):\n",
        "    print (arr[i], end= \" \")\n",
        "    i = i + 1"
      ],
      "metadata": {
        "colab": {
          "base_uri": "https://localhost:8080/"
        },
        "id": "0AlAxwObf45w",
        "outputId": "2d1a1e00-7f24-48e6-b509-285853db834b"
      },
      "execution_count": 4,
      "outputs": [
        {
          "output_type": "stream",
          "name": "stdout",
          "text": [
            "1 2 3 4 5 "
          ]
        }
      ]
    }
  ]
}