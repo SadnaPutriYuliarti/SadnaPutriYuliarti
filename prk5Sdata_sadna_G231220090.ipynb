{
  "nbformat": 4,
  "nbformat_minor": 0,
  "metadata": {
    "colab": {
      "provenance": [],
      "authorship_tag": "ABX9TyOxXvPwF7/bZxRAdsHad+jw",
      "include_colab_link": true
    },
    "kernelspec": {
      "name": "python3",
      "display_name": "Python 3"
    },
    "language_info": {
      "name": "python"
    }
  },
  "cells": [
    {
      "cell_type": "markdown",
      "metadata": {
        "id": "view-in-github",
        "colab_type": "text"
      },
      "source": [
        "<a href=\"https://colab.research.google.com/github/SadnaPutriYuliarti/SadnaPutriYuliarti/blob/main/prk5Sdata_sadna_G231220090.ipynb\" target=\"_parent\"><img src=\"https://colab.research.google.com/assets/colab-badge.svg\" alt=\"Open In Colab\"/></a>"
      ]
    },
    {
      "cell_type": "code",
      "execution_count": 3,
      "metadata": {
        "colab": {
          "base_uri": "https://localhost:8080/"
        },
        "id": "PypWOjO_sOD8",
        "outputId": "209f9cce-aca8-4c06-e75c-6573a208ccd0"
      },
      "outputs": [
        {
          "output_type": "stream",
          "name": "stdout",
          "text": [
            "Sorted array is:\n",
            " 4  12  29  30  56  71  99 "
          ]
        }
      ],
      "source": [
        "# Program Python untuk implementasi Bubble Sort\n",
        "def bubbleSort(arr):\n",
        " n = len(arr)\n",
        " swapped = False\n",
        "\n",
        " for i in range(n-1):\n",
        "  for j in range(0, n-i-1):\n",
        "    if arr[j] > arr[j + 1]:\n",
        "      swapped = True\n",
        "      arr[j], arr[j + 1] = arr[j + 1], arr[j]\n",
        "\n",
        "\n",
        "arr = [29, 4, 56, 12, 99, 71, 30]\n",
        "bubbleSort(arr)\n",
        "\n",
        "print(\"Sorted array is:\")\n",
        "for i in range(len(arr)):\n",
        "  print(\"% d\" % arr[i], end=\" \")\n"
      ]
    },
    {
      "cell_type": "code",
      "source": [
        "# Program Python untuk implementasi Selection Sort\n",
        "def selectionsort(ab):\n",
        " C = len(ab)\n",
        " swapped = False\n",
        "\n",
        " # Array yang akan diurutkan\n",
        "ab = [74, 55, 91, 2, 10]\n",
        "\n",
        "# Iterasi melalui setiap elemen array\n",
        "for i in range(len(ab)):\n",
        "    # Inisialisasi indeks minimum\n",
        "    min_idx = i\n",
        "\n",
        "    # Iterasi untuk mencari elemen terkecil dari sisa array\n",
        "    for j in range(i + 1, len(ab)):\n",
        "        # Membandingkan elemen dengan elemen minimum yang ditemukan\n",
        "        if ab[j] < ab[min_idx]:\n",
        "            min_idx = j\n",
        "\n",
        "    # Menukar elemen terkecil dengan elemen pada posisi i\n",
        "    if i != min_idx:\n",
        "        ab[i], ab[min_idx] = ab[min_idx], ab[i]\n",
        "\n",
        "# Menampilkan array yang sudah terurut\n",
        "print(\"Array yang sudah urut:\")\n",
        "for i in range(len(ab)):\n",
        "    print(\"%d\" % ab[i], end=\" \")"
      ],
      "metadata": {
        "colab": {
          "base_uri": "https://localhost:8080/"
        },
        "id": "STZliK1zYwMM",
        "outputId": "4e1bb4f4-1b8f-44b4-8d92-3c769ff4644e"
      },
      "execution_count": 4,
      "outputs": [
        {
          "output_type": "stream",
          "name": "stdout",
          "text": [
            "Array yang sudah urut:\n",
            "2 10 55 74 91 "
          ]
        }
      ]
    },
    {
      "cell_type": "code",
      "source": [
        "# Program Python untuk implementasi Insertion Sort\n",
        "def InsertionSort(ab):\n",
        "    # Iterasi mulai dari indeks kedua elemen hingga panjang array\n",
        "    for p in range(1, len(ab)):\n",
        "        # Mengambil elemen yang akan diinsert\n",
        "        key = arr[p]\n",
        "        # Menyiapkan indeks untuk membandingkan dan menyisipkan elemen\n",
        "        j = p - 1\n",
        "\n",
        "        # Memindahkan elemen-elemen yang lebih besar dari key ke posisi selanjutnya\n",
        "        while j >= 0 and key < arr[j]:\n",
        "            arr[j + 1] = arr[j]\n",
        "            j -= 1\n",
        "\n",
        "        # Memasukkan key ke posisi yang benar\n",
        "        if j != p - 1:\n",
        "            arr[j + 1] = key\n",
        "        else:\n",
        "            arr[p] = key\n",
        "\n",
        "# Angka pengujian\n",
        "arr = [4, 1, 2, 5, 3]\n",
        "InsertionSort(ab)\n",
        "\n",
        "\n",
        "# Menampilkan array yang sudah terurut\n",
        "print(\"Array yang sudah terurut:\")\n",
        "for p in range(len(ab)):\n",
        "    print(\"%d\" % arr[p], end=\" \")\n"
      ],
      "metadata": {
        "colab": {
          "base_uri": "https://localhost:8080/"
        },
        "id": "sS_Sn_wCY4t1",
        "outputId": "484fe71f-f351-4219-8ca7-26284a012bfc"
      },
      "execution_count": 5,
      "outputs": [
        {
          "output_type": "stream",
          "name": "stdout",
          "text": [
            "Array yang sudah terurut:\n",
            "1 2 3 4 5 "
          ]
        }
      ]
    },
    {
      "cell_type": "markdown",
      "source": [
        "# Bagian Baru"
      ],
      "metadata": {
        "id": "WNGHpaGhZwU_"
      }
    }
  ]
}