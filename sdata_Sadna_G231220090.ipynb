{
  "nbformat": 4,
  "nbformat_minor": 0,
  "metadata": {
    "colab": {
      "provenance": [],
      "authorship_tag": "ABX9TyMIJ8CdJy0LB3qo2hP8eWKr",
      "include_colab_link": true
    },
    "kernelspec": {
      "name": "python3",
      "display_name": "Python 3"
    },
    "language_info": {
      "name": "python"
    }
  },
  "cells": [
    {
      "cell_type": "markdown",
      "metadata": {
        "id": "view-in-github",
        "colab_type": "text"
      },
      "source": [
        "<a href=\"https://colab.research.google.com/github/SadnaPutriYuliarti/SadnaPutriYuliarti/blob/main/sdata_Sadna_G231220090.ipynb\" target=\"_parent\"><img src=\"https://colab.research.google.com/assets/colab-badge.svg\" alt=\"Open In Colab\"/></a>"
      ]
    },
    {
      "cell_type": "code",
      "execution_count": 3,
      "metadata": {
        "colab": {
          "base_uri": "https://localhost:8080/"
        },
        "id": "WTvxwBNy0yl-",
        "outputId": "fc95a40a-21d6-4999-afaf-eb2356ea4a81"
      },
      "outputs": [
        {
          "output_type": "stream",
          "name": "stdout",
          "text": [
            "\"hello Nona\"\n",
            "bukan pangram\n"
          ]
        }
      ],
      "source": [
        "mark = [False] * 26\n",
        "\n",
        "\n",
        "def isPangram(s):\n",
        "    for char in s:\n",
        "\n",
        "        if 'a' <= char <= 'z':\n",
        "            mark[ord(char) - ord('a')] = True\n",
        "        elif 'A' <= char <= 'Z':\n",
        "            mark[ord(char) - ord('A')] = False\n",
        "    for i in range(26):\n",
        "\n",
        "        if mark[i] == False:\n",
        "            return False\n",
        "\n",
        "\n",
        "    return True\n",
        "input_string = \"hello Nona\"\n",
        "# Memeriksa apakah string adalah pangram atau bukan\n",
        "if isPangram(input_string):\n",
        "    print('\"' + input_string + '\"')\n",
        "    print(\"adalah pangram\")\n",
        "else:\n",
        "    print('\"' + input_string + '\"')\n",
        "    print(\"bukan pangram\")"
      ]
    }
  ]
}