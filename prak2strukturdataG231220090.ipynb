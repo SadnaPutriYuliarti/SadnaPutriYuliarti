{
  "nbformat": 4,
  "nbformat_minor": 0,
  "metadata": {
    "colab": {
      "provenance": [],
      "authorship_tag": "ABX9TyPyl//pYmoJF3WslQzGw+ci",
      "include_colab_link": true
    },
    "kernelspec": {
      "name": "python3",
      "display_name": "Python 3"
    },
    "language_info": {
      "name": "python"
    }
  },
  "cells": [
    {
      "cell_type": "markdown",
      "metadata": {
        "id": "view-in-github",
        "colab_type": "text"
      },
      "source": [
        "<a href=\"https://colab.research.google.com/github/SadnaPutriYuliarti/SadnaPutriYuliarti/blob/main/prak2strukturdataG231220090.ipynb\" target=\"_parent\"><img src=\"https://colab.research.google.com/assets/colab-badge.svg\" alt=\"Open In Colab\"/></a>"
      ]
    },
    {
      "cell_type": "code",
      "source": [
        "#contoh penggunaan tuple\n",
        "\n",
        "#program 1\n",
        "#Create a tuple with different data types\n",
        "print(\"program 1\")\n",
        "tuplex = (\"tuple\", False, 3.2, 1)\n",
        "print(tuplex)\n",
        "\n",
        "#program 2\n",
        "print(\"program 2\")\n",
        "#Create a tuple with numbers\n",
        "tuplex = 5, 10, 15, 20, 25\n",
        "print(tuplex)\n",
        "#Create a tuple of one item\n",
        "tuplex = 5,\n",
        "print(tuplex)\n",
        "\n",
        "print(\"program 3\")\n",
        "#program 3\n",
        "#create a tuple\n",
        "tuplex = (4, 6, 2, 8, 3, 1)\n",
        "print(tuplex)\n",
        "#tuples are immutable, so you can not add new elements\n",
        "#using merge of tuples with the + operator you can add an element and it will create a new tuple\n",
        "tuplex = tuplex + (9,)\n",
        "print(tuplex)\n",
        "#adding items in a specific index\n",
        "tuplex = tuplex[:5] + (15, 20, 25) + tuplex[:5]\n",
        "print(tuplex)\n",
        "#converting the tuple to list\n",
        "listx = list(tuplex)\n",
        "#use different ways to add items in list\n",
        "listx.append(30)\n",
        "tuplex = tuple(listx)\n",
        "print(tuplex)\n",
        "\n",
        "print(\"program 4\")\n",
        "#program 4\n",
        "#create a tuple\n",
        "tuplex = (4, 6, 2, 8, 3, 1)\n",
        "print(tuplex)\n",
        "#tuples are immutable, so you can not add new elements\n",
        "#using merge of tuples with the + operator you can add an element and it will create a new tuple\n",
        "tuplex = tuplex + (9,)\n",
        "print(tuplex)\n",
        "#adding items in a specific index\n",
        "tuplex = tuplex[:5] + (15, 20, 25) + tuplex[:5]\n",
        "print(tuplex)\n",
        "#converting the tuple to list\n",
        "listx = list(tuplex)\n",
        "#use different ways to add items in list\n",
        "listx.append(30)\n",
        "tuplex = tuple(listx)\n",
        "print(tuplex)"
      ],
      "metadata": {
        "colab": {
          "base_uri": "https://localhost:8080/"
        },
        "id": "f_s5rSCv7pBV",
        "outputId": "466619d3-250f-436d-9630-31cd2f8dc612"
      },
      "execution_count": 3,
      "outputs": [
        {
          "output_type": "stream",
          "name": "stdout",
          "text": [
            "program 1\n",
            "('tuple', False, 3.2, 1)\n",
            "program 2\n",
            "(5, 10, 15, 20, 25)\n",
            "(5,)\n",
            "program 3\n",
            "(4, 6, 2, 8, 3, 1)\n",
            "(4, 6, 2, 8, 3, 1, 9)\n",
            "(4, 6, 2, 8, 3, 15, 20, 25, 4, 6, 2, 8, 3)\n",
            "(4, 6, 2, 8, 3, 15, 20, 25, 4, 6, 2, 8, 3, 30)\n",
            "program 4\n",
            "(4, 6, 2, 8, 3, 1)\n",
            "(4, 6, 2, 8, 3, 1, 9)\n",
            "(4, 6, 2, 8, 3, 15, 20, 25, 4, 6, 2, 8, 3)\n",
            "(4, 6, 2, 8, 3, 15, 20, 25, 4, 6, 2, 8, 3, 30)\n"
          ]
        }
      ]
    },
    {
      "cell_type": "code",
      "source": [
        "person = {'Name' : 'Sadna Putri Yuliarti', 'Jobdesk' : 'Customer Service'}\n",
        "print(person['Name'])\n",
        "print(person['Jobdesk'])"
      ],
      "metadata": {
        "colab": {
          "base_uri": "https://localhost:8080/"
        },
        "id": "MoRV2_l28upq",
        "outputId": "6fc8dc8d-4542-46da-9c45-6f4b2086f549"
      },
      "execution_count": 5,
      "outputs": [
        {
          "output_type": "stream",
          "name": "stdout",
          "text": [
            "Sadna Putri Yuliarti\n",
            "Customer Service\n"
          ]
        }
      ]
    }
  ]
}